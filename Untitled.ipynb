{
 "cells": [
  {
   "cell_type": "markdown",
   "metadata": {},
   "source": [
    "# Introduction to Python\n"
   ]
  },
  {
   "cell_type": "markdown",
   "metadata": {},
   "source": [
    "## Python Basics\n",
    "-  Select the second, third, and fourth elements from **cities**, and assign the resulting list to **cities_slice**.\n",
    "-  Select the last two elements in **crime_rates** and assign to **cr_slice**."
   ]
  },
  {
   "cell_type": "code",
   "execution_count": null,
   "metadata": {},
   "outputs": [],
   "source": [
    "cities = [\"Albuquerque\", \"Anaheim\", \"Anchorage\", \"Arlington\", \"Atlanta\"]\n",
    "crime_rates = [749, 371, 828, 503, 1379]\n",
    "cities_slice = cities[1:4]\n",
    "ending_index = len(crime_rates)\n",
    "starting_index = len(crime_rates)-2\n",
    "cr_slice = crime_rates[starting_index:ending_index]"
   ]
  },
  {
   "cell_type": "markdown",
   "metadata": {},
   "source": [
    "## Files and Loops\n",
    "Create a list of integers named **int_crime_rates** that contains just the crime rates - as integers - from the list **rows**.\n",
    "-  First create an empty list and assign it to a new variable **int_crime_rates**.\n",
    "-  Then, write a *for* loop that iterates over **rows** and does the following:\n",
    " - uses the **split()** method to convert each string in **rows** into a list, based on the comma delimiter\n",
    " - converts the value at index **1** from that list to an integer using the **int()** function\n",
    " - uses the **append()** method to add each integer to int_crime_rates"
   ]
  },
  {
   "cell_type": "code",
   "execution_count": null,
   "metadata": {},
   "outputs": [],
   "source": [
    "f = open('crime_rates.csv', 'r')\n",
    "data = f.read()\n",
    "rows = data.split('\\n')\n",
    "print(rows[0:5])\n",
    "int_crime_rates = []\n",
    "for row in rows:\n",
    "    values = row.split(',')\n",
    "    crime_rate = int(values[1])\n",
    "    int_crime_rates.append(crime_rate)"
   ]
  }
 ],
 "metadata": {
  "kernelspec": {
   "display_name": "Python 3",
   "language": "python",
   "name": "python3"
  },
  "language_info": {
   "codemirror_mode": {
    "name": "ipython",
    "version": 3
   },
   "file_extension": ".py",
   "mimetype": "text/x-python",
   "name": "python",
   "nbconvert_exporter": "python",
   "pygments_lexer": "ipython3",
   "version": "3.6.3"
  }
 },
 "nbformat": 4,
 "nbformat_minor": 2
}
